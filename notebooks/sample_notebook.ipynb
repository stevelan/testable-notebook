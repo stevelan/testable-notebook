{
 "cells": [
  {
   "cell_type": "markdown",
   "id": "160c838e-79e0-4020-a22a-38ac94d94ea6",
   "metadata": {},
   "source": [
    "# An example notebook \n",
    "Functions in this notebook are tested by tests in the ./tests directory"
   ]
  },
  {
   "cell_type": "code",
   "execution_count": null,
   "id": "f05370fe-01fe-4aef-ac38-199d7c57204b",
   "metadata": {},
   "outputs": [
    {
     "data": {
      "text/plain": [
       "'The completement of A is T'"
      ]
     },
     "execution_count": 12,
     "metadata": {},
     "output_type": "execute_result"
    }
   ],
   "source": [
    "\n",
    "\n",
    "\n",
    "def complement(base:str)-> str :\n",
    "    complements = {'A':'T', 'T':'A', 'C':'G', 'G':'C'}\n",
    "    if base not in complements:\n",
    "        raise ValueError(base)\n",
    "    # return the nucleotide which is the DNA complement of base\n",
    "    return complements[base]\n",
    "\n",
    "# f\"The completement of A is {complement('A')}\""
   ]
  }
 ],
 "metadata": {
  "kernelspec": {
   "display_name": "testable-nb-env",
   "language": "python",
   "name": "python3"
  },
  "language_info": {
   "codemirror_mode": {
    "name": "ipython",
    "version": 3
   },
   "file_extension": ".py",
   "mimetype": "text/x-python",
   "name": "python",
   "nbconvert_exporter": "python",
   "pygments_lexer": "ipython3",
   "version": "3.12.9"
  }
 },
 "nbformat": 4,
 "nbformat_minor": 5
}
